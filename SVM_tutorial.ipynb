{
  "nbformat": 4,
  "nbformat_minor": 0,
  "metadata": {
    "colab": {
      "provenance": [],
      "authorship_tag": "ABX9TyMChrvUBaokB69BcooUNW5J",
      "include_colab_link": true
    },
    "kernelspec": {
      "name": "python3",
      "display_name": "Python 3"
    },
    "language_info": {
      "name": "python"
    }
  },
  "cells": [
    {
      "cell_type": "markdown",
      "metadata": {
        "id": "view-in-github",
        "colab_type": "text"
      },
      "source": [
        "<a href=\"https://colab.research.google.com/github/luaGeeko/MediumMLToons/blob/main/SVM_tutorial.ipynb\" target=\"_parent\"><img src=\"https://colab.research.google.com/assets/colab-badge.svg\" alt=\"Open In Colab\"/></a>"
      ]
    },
    {
      "cell_type": "markdown",
      "source": [],
      "metadata": {
        "id": "OimtCAs5cQxY"
      }
    },
    {
      "cell_type": "code",
      "execution_count": null,
      "metadata": {
        "id": "sdqaEyWutUjC"
      },
      "outputs": [],
      "source": [
        "import numpy as np\n",
        "import matplotlib.pyplot as plt\n",
        "from sklearn import svm\n",
        "\n",
        "# lets take some sample points for 2 classes\n",
        "X = np.array([\n",
        "    [2, 2],  # Class +1\n",
        "    [2, 3],\n",
        "    [3, 2],\n",
        "    [6, 5],  # Class -1\n",
        "    [7, 8],\n",
        "    [8, 6]\n",
        "])\n",
        "\n",
        "# define true labels\n",
        "y = np.array([1, 1, 1, -1, -1, -1])\n",
        "clf = svm.SVC(kernel='linear')\n",
        "# fit to our sample data\n",
        "clf.fit(X, y)\n",
        "\n",
        "# extracting w and b\n",
        "w = clf.coef_[0]\n",
        "b = clf.intercept_[0]\n",
        "\n",
        "print(\"w:\", w)\n",
        "print(\"b:\", b)"
      ]
    },
    {
      "cell_type": "code",
      "source": [
        "def plot_decision_boundary_linearsvm(X: np.ndarray, y: np.ndarray, w: np.ndarray, b: float, title: str, new_points: np.ndarray = None):\n",
        "  plt.scatter(X[y==1][:, 0], X[y==1][:, 1], color='orange', label='Class +1 (Orange Ascots)', edgecolors='k')\n",
        "  plt.scatter(X[y==-1][:, 0], X[y==-1][:, 1], color='blue', label='Class -1 (Blue Ascots)', edgecolors='k')\n",
        "  if new_points is not None:\n",
        "    plt.scatter(new_points[:, 0], new_points[:, 1], color='red', label='New Points', edgecolors='k')\n",
        "  # for decision boundary smooth continuous line lets take linspace\n",
        "  x_vals = np.linspace(0, 10, 100)\n",
        "  # compute decsion boundary values\n",
        "  y_vals = -(w[0] * x_vals + b) / w[1]\n",
        "  # compute margin distance from descision boundary to support vectors\n",
        "  margin = 1 / np.sqrt(np.sum(w ** 2))\n",
        "  # we will margin on both the sides\n",
        "  y_margin_pos = y_vals + margin\n",
        "  y_margin_neg = y_vals - margin\n",
        "\n",
        "  # now lets plot them\n",
        "  plt.plot(x_vals, y_vals, 'k-', label='Decision Boundary')\n",
        "  plt.plot(x_vals, y_margin_pos, 'k--', label='Margin (+1)')\n",
        "  plt.plot(x_vals, y_margin_neg, 'k--', label='Margin (-1)')\n",
        "\n",
        "  # legend and labels\n",
        "  plt.legend()\n",
        "  plt.title(label=title)\n",
        "  plt.xlabel(\"Feature 1\")\n",
        "  plt.ylabel(\"Feature 2\")\n",
        "  plt.grid(True)\n",
        "  plt.show()"
      ],
      "metadata": {
        "id": "xtmKT6fPNfu2"
      },
      "execution_count": null,
      "outputs": []
    },
    {
      "cell_type": "code",
      "source": [
        "plot_decision_boundary_linearsvm(X, y, w, b, \"Linear SVM with Decision Boundary and Margins\")"
      ],
      "metadata": {
        "id": "TsfvwMr2OhKe"
      },
      "execution_count": null,
      "outputs": []
    },
    {
      "cell_type": "code",
      "source": [
        "# lets test a new point\n",
        "test_points = np.array([[2.5, 2.5]])\n",
        "svm_score = np.dot(w, test_points[0]) + b\n",
        "print(f\"Functional margin: {svm_score}\")\n",
        "\n",
        "if svm_score > 0:\n",
        "  print(\"Point belongs to Class +1\")\n",
        "elif svm_score < 0:\n",
        "  print(\"Point belongs Class -1\")\n",
        "else:\n",
        "  print(\"Point lies on the boundary\")"
      ],
      "metadata": {
        "id": "_7BcVSkztjZj"
      },
      "execution_count": null,
      "outputs": []
    },
    {
      "cell_type": "code",
      "source": [
        "plot_decision_boundary_linearsvm(X, y, w, b, title=\"New point classification\", new_points=test_points)"
      ],
      "metadata": {
        "id": "Ldi4CQS1OzxL"
      },
      "execution_count": null,
      "outputs": []
    },
    {
      "cell_type": "code",
      "source": [
        "# Original w and b\n",
        "print(\"Original w:\", w)\n",
        "print(\"Original b:\", b)\n",
        "\n",
        "print(\"Original score:\", svm_score)\n",
        "\n",
        "# Flipped w and b\n",
        "w_flipped = -w\n",
        "b_flipped = -b  # To maintain the same boundary, flip b too\n",
        "\n",
        "# Score with flipped w\n",
        "flipped_score = np.dot(w_flipped, test_points[0]) + b_flipped\n",
        "print(\"Flipped score:\", flipped_score)"
      ],
      "metadata": {
        "id": "FuoV4LEfubRq"
      },
      "execution_count": null,
      "outputs": []
    },
    {
      "cell_type": "code",
      "source": [
        "def plot_w_and_flipped_w(X, y_true, w, b):\n",
        "  x_vals = np.linspace(0, 10, 100)\n",
        "\n",
        "  fig, axs = plt.subplots(1, 2, figsize=(12, 5))\n",
        "\n",
        "  for i, (w_, b_, title) in enumerate([\n",
        "      (w, b, \"Original w and b (SVM View)\"),\n",
        "      (-w, -b, \"Flipped w and b (Inverted View)\")\n",
        "  ]):\n",
        "      # Predicted labels using current w and b\n",
        "      scores = np.dot(X, w_) + b_\n",
        "      y_pred = np.sign(scores)\n",
        "\n",
        "      # Plot predicted +1 and -1 with different colors\n",
        "      axs[i].scatter(X[y_pred==1][:, 0], X[y_pred==1][:, 1], color='orange', label='Predicted +1', edgecolors='k')\n",
        "      axs[i].scatter(X[y_pred==-1][:, 0], X[y_pred==-1][:, 1], color='blue', label='Predicted -1', edgecolors='k')\n",
        "\n",
        "      # Decision boundary\n",
        "      y_vals = -(w_[0] * x_vals + b_) / w_[1]\n",
        "      margin = 1 / np.linalg.norm(w_)\n",
        "      y_margin_pos = y_vals + margin\n",
        "      y_margin_neg = y_vals - margin\n",
        "\n",
        "      axs[i].plot(x_vals, y_vals, 'k-', label='Decision Boundary')\n",
        "      axs[i].plot(x_vals, y_margin_pos, 'k--', label='Margin (+1)')\n",
        "      axs[i].plot(x_vals, y_margin_neg, 'k--', label='Margin (-1)')\n",
        "\n",
        "      # Plot the direction of w as an arrow\n",
        "      midpoint = np.array([5, -(w_[0]*5 + b_) / w_[1]])  # pick x=5 to get y on boundary\n",
        "      norm_w = w_ / np.linalg.norm(w_)                   # normalize for consistent arrow size\n",
        "      axs[i].arrow(midpoint[0], midpoint[1],\n",
        "                    norm_w[0], norm_w[1],\n",
        "                    head_width=0.2, head_length=0.3, fc='green', ec='green',\n",
        "                    label='w direction')\n",
        "      axs[i].text(midpoint[0] + norm_w[0], midpoint[1] + norm_w[1], 'w', color='green')\n",
        "\n",
        "      axs[i].set_xlim(0, 10)\n",
        "      axs[i].set_ylim(0, 10)\n",
        "      axs[i].set_xlabel(\"Feature 1\")\n",
        "      axs[i].set_ylabel(\"Feature 2\")\n",
        "      axs[i].set_title(title)\n",
        "      axs[i].legend()\n",
        "      axs[i].grid(True)\n",
        "\n",
        "  plt.tight_layout()\n",
        "  plt.show()"
      ],
      "metadata": {
        "id": "zts-RWidR0QO"
      },
      "execution_count": null,
      "outputs": []
    },
    {
      "cell_type": "code",
      "source": [
        "plot_w_and_flipped_w(X, y, w, b)"
      ],
      "metadata": {
        "id": "sXXZkvZNYzk0"
      },
      "execution_count": null,
      "outputs": []
    }
  ]
}